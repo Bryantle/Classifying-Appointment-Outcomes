{
 "cells": [
  {
   "cell_type": "code",
   "execution_count": 1,
   "metadata": {},
   "outputs": [],
   "source": [
    "import numpy as np\n",
    "from datascience import *\n",
    "\n",
    "# These lines do some fancy plotting magic.\n",
    "import matplotlib\n",
    "%matplotlib inline\n",
    "import matplotlib.pyplot as plt\n",
    "plt.style.use('fivethirtyeight')\n",
    "import warnings\n",
    "warnings.simplefilter('ignore', FutureWarning)\n",
    "from matplotlib import patches\n",
    "from ipywidgets import interact, interactive, fixed\n",
    "import ipywidgets as widgets"
   ]
  },
  {
   "cell_type": "markdown",
   "metadata": {},
   "source": [
    "https://www.kaggle.com/cms/hospital-general-information\n",
    "\n",
    "We often find ourselves setting up a doctor's appointment and forgetting about it. But how often does that happen? And would it be possible to predict whether or not a person would show up to their appointment based on 300k medical appointments and its 15 variables (characteristics.)\n",
    "\n",
    "Let us start by looking at the data for the medical appointments."
   ]
  },
  {
   "cell_type": "code",
   "execution_count": 8,
   "metadata": {},
   "outputs": [
    {
     "data": {
      "text/html": [
       "<table border=\"1\" class=\"dataframe\">\n",
       "    <thead>\n",
       "        <tr>\n",
       "            <th>PatientId</th> <th>AppointmentID</th> <th>Gender</th> <th>ScheduledDay</th> <th>AppointmentDay</th> <th>Age</th> <th>Neighbourhood</th> <th>Scholarship</th> <th>Hipertension</th> <th>Diabetes</th> <th>Alcoholism</th> <th>Handcap</th> <th>SMS_received</th> <th>No-show</th>\n",
       "        </tr>\n",
       "    </thead>\n",
       "    <tbody>\n",
       "        <tr>\n",
       "            <td>2.98725e+13</td> <td>5642903      </td> <td>F     </td> <td>2016-04-29T18:38:08Z</td> <td>2016-04-29T00:00:00Z</td> <td>62  </td> <td>JARDIM DA PENHA  </td> <td>0          </td> <td>1           </td> <td>0       </td> <td>0         </td> <td>0      </td> <td>0           </td> <td>No     </td>\n",
       "        </tr>\n",
       "    </tbody>\n",
       "        <tr>\n",
       "            <td>5.58998e+14</td> <td>5642503      </td> <td>M     </td> <td>2016-04-29T16:08:27Z</td> <td>2016-04-29T00:00:00Z</td> <td>56  </td> <td>JARDIM DA PENHA  </td> <td>0          </td> <td>0           </td> <td>0       </td> <td>0         </td> <td>0      </td> <td>0           </td> <td>No     </td>\n",
       "        </tr>\n",
       "    </tbody>\n",
       "        <tr>\n",
       "            <td>4.26296e+12</td> <td>5642549      </td> <td>F     </td> <td>2016-04-29T16:19:04Z</td> <td>2016-04-29T00:00:00Z</td> <td>62  </td> <td>MATA DA PRAIA    </td> <td>0          </td> <td>0           </td> <td>0       </td> <td>0         </td> <td>0      </td> <td>0           </td> <td>No     </td>\n",
       "        </tr>\n",
       "    </tbody>\n",
       "        <tr>\n",
       "            <td>8.67951e+11</td> <td>5642828      </td> <td>F     </td> <td>2016-04-29T17:29:31Z</td> <td>2016-04-29T00:00:00Z</td> <td>8   </td> <td>PONTAL DE CAMBURI</td> <td>0          </td> <td>0           </td> <td>0       </td> <td>0         </td> <td>0      </td> <td>0           </td> <td>No     </td>\n",
       "        </tr>\n",
       "    </tbody>\n",
       "        <tr>\n",
       "            <td>8.84119e+12</td> <td>5642494      </td> <td>F     </td> <td>2016-04-29T16:07:23Z</td> <td>2016-04-29T00:00:00Z</td> <td>56  </td> <td>JARDIM DA PENHA  </td> <td>0          </td> <td>1           </td> <td>1       </td> <td>0         </td> <td>0      </td> <td>0           </td> <td>No     </td>\n",
       "        </tr>\n",
       "    </tbody>\n",
       "        <tr>\n",
       "            <td>9.59851e+13</td> <td>5626772      </td> <td>F     </td> <td>2016-04-27T08:36:51Z</td> <td>2016-04-29T00:00:00Z</td> <td>76  </td> <td>REPÚBLICA        </td> <td>0          </td> <td>1           </td> <td>0       </td> <td>0         </td> <td>0      </td> <td>0           </td> <td>No     </td>\n",
       "        </tr>\n",
       "    </tbody>\n",
       "        <tr>\n",
       "            <td>7.33688e+14</td> <td>5630279      </td> <td>F     </td> <td>2016-04-27T15:05:12Z</td> <td>2016-04-29T00:00:00Z</td> <td>23  </td> <td>GOIABEIRAS       </td> <td>0          </td> <td>0           </td> <td>0       </td> <td>0         </td> <td>0      </td> <td>0           </td> <td>Yes    </td>\n",
       "        </tr>\n",
       "    </tbody>\n",
       "        <tr>\n",
       "            <td>3.44983e+12</td> <td>5630575      </td> <td>F     </td> <td>2016-04-27T15:39:58Z</td> <td>2016-04-29T00:00:00Z</td> <td>39  </td> <td>GOIABEIRAS       </td> <td>0          </td> <td>0           </td> <td>0       </td> <td>0         </td> <td>0      </td> <td>0           </td> <td>Yes    </td>\n",
       "        </tr>\n",
       "    </tbody>\n",
       "        <tr>\n",
       "            <td>5.63947e+13</td> <td>5638447      </td> <td>F     </td> <td>2016-04-29T08:02:16Z</td> <td>2016-04-29T00:00:00Z</td> <td>21  </td> <td>ANDORINHAS       </td> <td>0          </td> <td>0           </td> <td>0       </td> <td>0         </td> <td>0      </td> <td>0           </td> <td>No     </td>\n",
       "        </tr>\n",
       "    </tbody>\n",
       "        <tr>\n",
       "            <td>7.81246e+13</td> <td>5629123      </td> <td>F     </td> <td>2016-04-27T12:48:25Z</td> <td>2016-04-29T00:00:00Z</td> <td>19  </td> <td>CONQUISTA        </td> <td>0          </td> <td>0           </td> <td>0       </td> <td>0         </td> <td>0      </td> <td>0           </td> <td>No     </td>\n",
       "        </tr>\n",
       "    </tbody>\n",
       "</table>\n",
       "<p>... (110517 rows omitted)</p>"
      ],
      "text/plain": [
       "<IPython.core.display.HTML object>"
      ]
     },
     "metadata": {},
     "output_type": "display_data"
    }
   ],
   "source": [
    "Table.read_table('KaggleV2-May-2016.csv')\n",
    "medical.show(10)"
   ]
  },
  {
   "cell_type": "markdown",
   "metadata": {},
   "source": [
    "Does having had receieved an SMS associated with showing up to an appointment?\n",
    "\n",
    "Null Hypothesis: The patient has an equal chance of showing up to an appointment regardless of whether or not the patient received an SMS.\n",
    "\n",
    "Alternative Hypothesis: The patient has a higher chance of showing up to an appointment if they had recieved an SMS.\n",
    "\n",
    "What if we tried to first split up the table into two tables with one table being those who received an SMS and one table for those who did not receive an SMS? We would then bootstrap each of these datasets separately and take the difference of their corresponding elements in the test statistics we will generate in each of the bootstraps."
   ]
  },
  {
   "cell_type": "code",
   "execution_count": 25,
   "metadata": {},
   "outputs": [],
   "source": [
    "def bootstrap_individual(tbl):\n",
    "    array_of_bs_means = make_array()\n",
    "    for i in range(5000):\n",
    "        sampled = x.sample()\n",
    "        prop_of_yes = (np.count_nonzero(sampled.column('No-show') == \"Yes\"))/ sampled.num_rows\n",
    "        array_of_bs_means = np.append(array_of_bs_means, prop_of_yes)\n",
    "    return array_of_bs_means"
   ]
  },
  {
   "cell_type": "code",
   "execution_count": 26,
   "metadata": {},
   "outputs": [
    {
     "data": {
      "text/html": [
       "<table border=\"1\" class=\"dataframe\">\n",
       "    <thead>\n",
       "        <tr>\n",
       "            <th>PatientId</th> <th>AppointmentID</th> <th>Gender</th> <th>ScheduledDay</th> <th>AppointmentDay</th> <th>Age</th> <th>Neighbourhood</th> <th>Scholarship</th> <th>Hipertension</th> <th>Diabetes</th> <th>Alcoholism</th> <th>Handcap</th> <th>SMS_received</th> <th>No-show</th>\n",
       "        </tr>\n",
       "    </thead>\n",
       "    <tbody>\n",
       "        <tr>\n",
       "            <td>7.54295e+12</td> <td>5620163      </td> <td>M     </td> <td>2016-04-26T08:44:12Z</td> <td>2016-04-29T00:00:00Z</td> <td>29  </td> <td>NOVA PALESTINA</td> <td>0          </td> <td>0           </td> <td>0       </td> <td>0         </td> <td>0      </td> <td>1           </td> <td>Yes    </td>\n",
       "        </tr>\n",
       "    </tbody>\n",
       "        <tr>\n",
       "            <td>9.99484e+10</td> <td>5620206      </td> <td>F     </td> <td>2016-04-26T08:47:27Z</td> <td>2016-04-29T00:00:00Z</td> <td>15  </td> <td>NOVA PALESTINA</td> <td>0          </td> <td>0           </td> <td>0       </td> <td>0         </td> <td>0      </td> <td>1           </td> <td>No     </td>\n",
       "        </tr>\n",
       "    </tbody>\n",
       "        <tr>\n",
       "            <td>1.71354e+13</td> <td>5621836      </td> <td>F     </td> <td>2016-04-26T10:54:18Z</td> <td>2016-04-29T00:00:00Z</td> <td>30  </td> <td>NOVA PALESTINA</td> <td>1          </td> <td>0           </td> <td>0       </td> <td>0         </td> <td>0      </td> <td>1           </td> <td>No     </td>\n",
       "        </tr>\n",
       "    </tbody>\n",
       "        <tr>\n",
       "            <td>8.6323e+14 </td> <td>5616091      </td> <td>M     </td> <td>2016-04-25T13:29:16Z</td> <td>2016-04-29T00:00:00Z</td> <td>13  </td> <td>CONQUISTA     </td> <td>0          </td> <td>0           </td> <td>0       </td> <td>0         </td> <td>0      </td> <td>1           </td> <td>Yes    </td>\n",
       "        </tr>\n",
       "    </tbody>\n",
       "        <tr>\n",
       "            <td>5.81937e+12</td> <td>5624020      </td> <td>M     </td> <td>2016-04-26T15:04:17Z</td> <td>2016-04-29T00:00:00Z</td> <td>46  </td> <td>CONQUISTA     </td> <td>0          </td> <td>1           </td> <td>0       </td> <td>0         </td> <td>0      </td> <td>1           </td> <td>No     </td>\n",
       "        </tr>\n",
       "    </tbody>\n",
       "        <tr>\n",
       "            <td>7.65352e+12</td> <td>5616921      </td> <td>F     </td> <td>2016-04-25T15:01:04Z</td> <td>2016-04-29T00:00:00Z</td> <td>38  </td> <td>SÃO CRISTÓVÃO </td> <td>1          </td> <td>0           </td> <td>0       </td> <td>0         </td> <td>0      </td> <td>1           </td> <td>No     </td>\n",
       "        </tr>\n",
       "    </tbody>\n",
       "        <tr>\n",
       "            <td>5.87332e+12</td> <td>5609446      </td> <td>M     </td> <td>2016-04-20T15:54:18Z</td> <td>2016-04-29T00:00:00Z</td> <td>85  </td> <td>SÃO CRISTÓVÃO </td> <td>0          </td> <td>1           </td> <td>0       </td> <td>0         </td> <td>0      </td> <td>1           </td> <td>No     </td>\n",
       "        </tr>\n",
       "    </tbody>\n",
       "        <tr>\n",
       "            <td>1.37944e+11</td> <td>5615608      </td> <td>M     </td> <td>2016-04-25T12:44:36Z</td> <td>2016-04-29T00:00:00Z</td> <td>58  </td> <td>SÃO CRISTÓVÃO </td> <td>0          </td> <td>1           </td> <td>0       </td> <td>1         </td> <td>0      </td> <td>1           </td> <td>No     </td>\n",
       "        </tr>\n",
       "    </tbody>\n",
       "        <tr>\n",
       "            <td>8.54542e+12</td> <td>5618643      </td> <td>F     </td> <td>2016-04-26T07:19:49Z</td> <td>2016-04-29T00:00:00Z</td> <td>58  </td> <td>SÃO CRISTÓVÃO </td> <td>0          </td> <td>0           </td> <td>0       </td> <td>0         </td> <td>0      </td> <td>1           </td> <td>Yes    </td>\n",
       "        </tr>\n",
       "    </tbody>\n",
       "        <tr>\n",
       "            <td>9.22356e+13</td> <td>5534656      </td> <td>F     </td> <td>2016-03-31T17:11:17Z</td> <td>2016-04-29T00:00:00Z</td> <td>27  </td> <td>GRANDE VITÓRIA</td> <td>0          </td> <td>0           </td> <td>0       </td> <td>0         </td> <td>0      </td> <td>1           </td> <td>Yes    </td>\n",
       "        </tr>\n",
       "    </tbody>\n",
       "</table>\n",
       "<p>... (35472 rows omitted)</p>"
      ],
      "text/plain": [
       "PatientId   | AppointmentID | Gender | ScheduledDay         | AppointmentDay       | Age  | Neighbourhood  | Scholarship | Hipertension | Diabetes | Alcoholism | Handcap | SMS_received | No-show\n",
       "7.54295e+12 | 5620163       | M      | 2016-04-26T08:44:12Z | 2016-04-29T00:00:00Z | 29   | NOVA PALESTINA | 0           | 0            | 0        | 0          | 0       | 1            | Yes\n",
       "9.99484e+10 | 5620206       | F      | 2016-04-26T08:47:27Z | 2016-04-29T00:00:00Z | 15   | NOVA PALESTINA | 0           | 0            | 0        | 0          | 0       | 1            | No\n",
       "1.71354e+13 | 5621836       | F      | 2016-04-26T10:54:18Z | 2016-04-29T00:00:00Z | 30   | NOVA PALESTINA | 1           | 0            | 0        | 0          | 0       | 1            | No\n",
       "8.6323e+14  | 5616091       | M      | 2016-04-25T13:29:16Z | 2016-04-29T00:00:00Z | 13   | CONQUISTA      | 0           | 0            | 0        | 0          | 0       | 1            | Yes\n",
       "5.81937e+12 | 5624020       | M      | 2016-04-26T15:04:17Z | 2016-04-29T00:00:00Z | 46   | CONQUISTA      | 0           | 1            | 0        | 0          | 0       | 1            | No\n",
       "7.65352e+12 | 5616921       | F      | 2016-04-25T15:01:04Z | 2016-04-29T00:00:00Z | 38   | SÃO CRISTÓVÃO  | 1           | 0            | 0        | 0          | 0       | 1            | No\n",
       "5.87332e+12 | 5609446       | M      | 2016-04-20T15:54:18Z | 2016-04-29T00:00:00Z | 85   | SÃO CRISTÓVÃO  | 0           | 1            | 0        | 0          | 0       | 1            | No\n",
       "1.37944e+11 | 5615608       | M      | 2016-04-25T12:44:36Z | 2016-04-29T00:00:00Z | 58   | SÃO CRISTÓVÃO  | 0           | 1            | 0        | 1          | 0       | 1            | No\n",
       "8.54542e+12 | 5618643       | F      | 2016-04-26T07:19:49Z | 2016-04-29T00:00:00Z | 58   | SÃO CRISTÓVÃO  | 0           | 0            | 0        | 0          | 0       | 1            | Yes\n",
       "9.22356e+13 | 5534656       | F      | 2016-03-31T17:11:17Z | 2016-04-29T00:00:00Z | 27   | GRANDE VITÓRIA | 0           | 0            | 0        | 0          | 0       | 1            | Yes\n",
       "... (35472 rows omitted)"
      ]
     },
     "execution_count": 26,
     "metadata": {},
     "output_type": "execute_result"
    }
   ],
   "source": [
    "x = medical.where('SMS_received', 1)\n",
    "x"
   ]
  },
  {
   "cell_type": "code",
   "execution_count": 27,
   "metadata": {},
   "outputs": [
    {
     "data": {
      "text/html": [
       "<table border=\"1\" class=\"dataframe\">\n",
       "    <thead>\n",
       "        <tr>\n",
       "            <th>PatientId</th> <th>AppointmentID</th> <th>Gender</th> <th>ScheduledDay</th> <th>AppointmentDay</th> <th>Age</th> <th>Neighbourhood</th> <th>Scholarship</th> <th>Hipertension</th> <th>Diabetes</th> <th>Alcoholism</th> <th>Handcap</th> <th>SMS_received</th> <th>No-show</th>\n",
       "        </tr>\n",
       "    </thead>\n",
       "    <tbody>\n",
       "        <tr>\n",
       "            <td>2.98725e+13</td> <td>5642903      </td> <td>F     </td> <td>2016-04-29T18:38:08Z</td> <td>2016-04-29T00:00:00Z</td> <td>62  </td> <td>JARDIM DA PENHA  </td> <td>0          </td> <td>1           </td> <td>0       </td> <td>0         </td> <td>0      </td> <td>0           </td> <td>No     </td>\n",
       "        </tr>\n",
       "    </tbody>\n",
       "        <tr>\n",
       "            <td>5.58998e+14</td> <td>5642503      </td> <td>M     </td> <td>2016-04-29T16:08:27Z</td> <td>2016-04-29T00:00:00Z</td> <td>56  </td> <td>JARDIM DA PENHA  </td> <td>0          </td> <td>0           </td> <td>0       </td> <td>0         </td> <td>0      </td> <td>0           </td> <td>No     </td>\n",
       "        </tr>\n",
       "    </tbody>\n",
       "        <tr>\n",
       "            <td>4.26296e+12</td> <td>5642549      </td> <td>F     </td> <td>2016-04-29T16:19:04Z</td> <td>2016-04-29T00:00:00Z</td> <td>62  </td> <td>MATA DA PRAIA    </td> <td>0          </td> <td>0           </td> <td>0       </td> <td>0         </td> <td>0      </td> <td>0           </td> <td>No     </td>\n",
       "        </tr>\n",
       "    </tbody>\n",
       "        <tr>\n",
       "            <td>8.67951e+11</td> <td>5642828      </td> <td>F     </td> <td>2016-04-29T17:29:31Z</td> <td>2016-04-29T00:00:00Z</td> <td>8   </td> <td>PONTAL DE CAMBURI</td> <td>0          </td> <td>0           </td> <td>0       </td> <td>0         </td> <td>0      </td> <td>0           </td> <td>No     </td>\n",
       "        </tr>\n",
       "    </tbody>\n",
       "        <tr>\n",
       "            <td>8.84119e+12</td> <td>5642494      </td> <td>F     </td> <td>2016-04-29T16:07:23Z</td> <td>2016-04-29T00:00:00Z</td> <td>56  </td> <td>JARDIM DA PENHA  </td> <td>0          </td> <td>1           </td> <td>1       </td> <td>0         </td> <td>0      </td> <td>0           </td> <td>No     </td>\n",
       "        </tr>\n",
       "    </tbody>\n",
       "        <tr>\n",
       "            <td>9.59851e+13</td> <td>5626772      </td> <td>F     </td> <td>2016-04-27T08:36:51Z</td> <td>2016-04-29T00:00:00Z</td> <td>76  </td> <td>REPÚBLICA        </td> <td>0          </td> <td>1           </td> <td>0       </td> <td>0         </td> <td>0      </td> <td>0           </td> <td>No     </td>\n",
       "        </tr>\n",
       "    </tbody>\n",
       "        <tr>\n",
       "            <td>7.33688e+14</td> <td>5630279      </td> <td>F     </td> <td>2016-04-27T15:05:12Z</td> <td>2016-04-29T00:00:00Z</td> <td>23  </td> <td>GOIABEIRAS       </td> <td>0          </td> <td>0           </td> <td>0       </td> <td>0         </td> <td>0      </td> <td>0           </td> <td>Yes    </td>\n",
       "        </tr>\n",
       "    </tbody>\n",
       "        <tr>\n",
       "            <td>3.44983e+12</td> <td>5630575      </td> <td>F     </td> <td>2016-04-27T15:39:58Z</td> <td>2016-04-29T00:00:00Z</td> <td>39  </td> <td>GOIABEIRAS       </td> <td>0          </td> <td>0           </td> <td>0       </td> <td>0         </td> <td>0      </td> <td>0           </td> <td>Yes    </td>\n",
       "        </tr>\n",
       "    </tbody>\n",
       "        <tr>\n",
       "            <td>5.63947e+13</td> <td>5638447      </td> <td>F     </td> <td>2016-04-29T08:02:16Z</td> <td>2016-04-29T00:00:00Z</td> <td>21  </td> <td>ANDORINHAS       </td> <td>0          </td> <td>0           </td> <td>0       </td> <td>0         </td> <td>0      </td> <td>0           </td> <td>No     </td>\n",
       "        </tr>\n",
       "    </tbody>\n",
       "        <tr>\n",
       "            <td>7.81246e+13</td> <td>5629123      </td> <td>F     </td> <td>2016-04-27T12:48:25Z</td> <td>2016-04-29T00:00:00Z</td> <td>19  </td> <td>CONQUISTA        </td> <td>0          </td> <td>0           </td> <td>0       </td> <td>0         </td> <td>0      </td> <td>0           </td> <td>No     </td>\n",
       "        </tr>\n",
       "    </tbody>\n",
       "</table>\n",
       "<p>... (75035 rows omitted)</p>"
      ],
      "text/plain": [
       "PatientId   | AppointmentID | Gender | ScheduledDay         | AppointmentDay       | Age  | Neighbourhood     | Scholarship | Hipertension | Diabetes | Alcoholism | Handcap | SMS_received | No-show\n",
       "2.98725e+13 | 5642903       | F      | 2016-04-29T18:38:08Z | 2016-04-29T00:00:00Z | 62   | JARDIM DA PENHA   | 0           | 1            | 0        | 0          | 0       | 0            | No\n",
       "5.58998e+14 | 5642503       | M      | 2016-04-29T16:08:27Z | 2016-04-29T00:00:00Z | 56   | JARDIM DA PENHA   | 0           | 0            | 0        | 0          | 0       | 0            | No\n",
       "4.26296e+12 | 5642549       | F      | 2016-04-29T16:19:04Z | 2016-04-29T00:00:00Z | 62   | MATA DA PRAIA     | 0           | 0            | 0        | 0          | 0       | 0            | No\n",
       "8.67951e+11 | 5642828       | F      | 2016-04-29T17:29:31Z | 2016-04-29T00:00:00Z | 8    | PONTAL DE CAMBURI | 0           | 0            | 0        | 0          | 0       | 0            | No\n",
       "8.84119e+12 | 5642494       | F      | 2016-04-29T16:07:23Z | 2016-04-29T00:00:00Z | 56   | JARDIM DA PENHA   | 0           | 1            | 1        | 0          | 0       | 0            | No\n",
       "9.59851e+13 | 5626772       | F      | 2016-04-27T08:36:51Z | 2016-04-29T00:00:00Z | 76   | REPÚBLICA         | 0           | 1            | 0        | 0          | 0       | 0            | No\n",
       "7.33688e+14 | 5630279       | F      | 2016-04-27T15:05:12Z | 2016-04-29T00:00:00Z | 23   | GOIABEIRAS        | 0           | 0            | 0        | 0          | 0       | 0            | Yes\n",
       "3.44983e+12 | 5630575       | F      | 2016-04-27T15:39:58Z | 2016-04-29T00:00:00Z | 39   | GOIABEIRAS        | 0           | 0            | 0        | 0          | 0       | 0            | Yes\n",
       "5.63947e+13 | 5638447       | F      | 2016-04-29T08:02:16Z | 2016-04-29T00:00:00Z | 21   | ANDORINHAS        | 0           | 0            | 0        | 0          | 0       | 0            | No\n",
       "7.81246e+13 | 5629123       | F      | 2016-04-27T12:48:25Z | 2016-04-29T00:00:00Z | 19   | CONQUISTA         | 0           | 0            | 0        | 0          | 0       | 0            | No\n",
       "... (75035 rows omitted)"
      ]
     },
     "execution_count": 27,
     "metadata": {},
     "output_type": "execute_result"
    }
   ],
   "source": [
    "y = medical.where('SMS_received',0)\n",
    "y"
   ]
  },
  {
   "cell_type": "markdown",
   "metadata": {},
   "source": [
    "The following calculations are under the assumption that the hospital we have selected and the patients that made an appointment with this hospital is a large and random sample of all patients in the United States. We are trying to see if sending an SMS actually changes whether a person goes to an appointment or not of all patients in the United States."
   ]
  },
  {
   "cell_type": "code",
   "execution_count": null,
   "metadata": {},
   "outputs": [],
   "source": [
    "bootstrap_of_x = bootstrap_individual(x)\n",
    "bootstrap_of_x"
   ]
  },
  {
   "cell_type": "code",
   "execution_count": null,
   "metadata": {},
   "outputs": [],
   "source": [
    "bootstrap_of_y = bootstrap_individual(y)\n",
    "bootstrap_of_y"
   ]
  },
  {
   "cell_type": "code",
   "execution_count": null,
   "metadata": {},
   "outputs": [],
   "source": [
    "table_x = Table().with_column('SMS_received proportions', bootstrap_of_x).hist('SMS_received proportions')\n",
    "table_x"
   ]
  },
  {
   "cell_type": "code",
   "execution_count": null,
   "metadata": {},
   "outputs": [],
   "source": [
    "table_y = Table().with_column('No SMS_received proportions', bootstrap_of_y).hist(\"No SMS_received proportions\")\n",
    "table_y"
   ]
  },
  {
   "cell_type": "code",
   "execution_count": null,
   "metadata": {},
   "outputs": [],
   "source": [
    "difference_prop_x_y = bootstrap_of_x - bootstrap_of_y\n",
    "difference_prop_x_y"
   ]
  },
  {
   "cell_type": "code",
   "execution_count": null,
   "metadata": {},
   "outputs": [],
   "source": [
    "table_difference_prop_x_y = Table().with_column('Proportions Difference', difference_prop_x_y).hist('Proportions Difference')\n",
    "table_difference_prop_x_y"
   ]
  },
  {
   "cell_type": "markdown",
   "metadata": {},
   "source": [
    "While this does seem like the proportion difference between the proportion of those who showed up to their appointment who recieved an SMS and the proportion of those who showed up to their appointment who did not recieve an SMS is 0. The problem with the method of bootstrapping is that the sample sizes are different, therefore we will have to try bootstrapping some other way. \n",
    "\n",
    "For the following method, we will not split up the table, but we will bootstrap using the original table and create an array of proportion differences in each bootstrap resample. "
   ]
  },
  {
   "cell_type": "code",
   "execution_count": null,
   "metadata": {},
   "outputs": [],
   "source": [
    "def bootstrap_together(tbl):\n",
    "    array_of_diff_prop = make_array()\n",
    "    for i in range(5000):\n",
    "        sampled = tbl.sample()\n",
    "        yes_SMS = sampled.where('SMS_received', 1)\n",
    "        no_SMS = sampled.where('SMS_received', 0)\n",
    "        yes_SMS_prop_of_yes = (np.count_nonzero(yes_SMS.column('No-show') == \"Yes\"))/ yes_SMS.num_rows\n",
    "        no_SMS_prop_of_yes = (np.count_nonzero(no_SMS.column('No-show') == \"Yes\"))/ no_SMS.num_rows\n",
    "        diff_prop = yes_SMS_prop_of_yes - no_SMS_prop_of_yes\n",
    "        array_of_diff_prop = np.append(array_of_diff_prop, diff_prop)\n",
    "    return array_of_diff_prop"
   ]
  },
  {
   "cell_type": "code",
   "execution_count": null,
   "metadata": {},
   "outputs": [],
   "source": [
    "bootstrap_of_diff_prop = bootstrap_together(medical)\n",
    "bootstrap_of_diff_prop"
   ]
  },
  {
   "cell_type": "code",
   "execution_count": null,
   "metadata": {},
   "outputs": [],
   "source": [
    "lower = percentile(2.5, bootstrap_of_diff_prop)\n",
    "higher = percentile(97.5, bootstrap_of_diff_prop)\n",
    "[lower,higher]"
   ]
  },
  {
   "cell_type": "code",
   "execution_count": null,
   "metadata": {},
   "outputs": [],
   "source": [
    "table_diff_prop = Table().with_column('Proportion Difference', bootstrap_of_diff_prop).hist('Proportion Difference')\n",
    "table_diff_prop"
   ]
  },
  {
   "cell_type": "markdown",
   "metadata": {},
   "source": [
    "If 0 is in our confidence interval of 95% we do not have enough to reject the null. If 0 is not in our interval, then we can reject the null hypothesis with a P-value cutoff of 5%. Since 0 is not in our 95% confidence interval, we reject the null hypothesis that the patient has an equal chance of showing up the appointment regardless of whether or not they recieved an SMS because we have just shown that there IS a difference. "
   ]
  },
  {
   "cell_type": "code",
   "execution_count": null,
   "metadata": {},
   "outputs": [],
   "source": [
    "table_difference_prop_x_y\n",
    "table_diff_prop"
   ]
  },
  {
   "cell_type": "code",
   "execution_count": null,
   "metadata": {},
   "outputs": [],
   "source": []
  }
 ],
 "metadata": {
  "kernelspec": {
   "display_name": "Python 3",
   "language": "python",
   "name": "python3"
  },
  "language_info": {
   "codemirror_mode": {
    "name": "ipython",
    "version": 3
   },
   "file_extension": ".py",
   "mimetype": "text/x-python",
   "name": "python",
   "nbconvert_exporter": "python",
   "pygments_lexer": "ipython3",
   "version": "3.6.4"
  }
 },
 "nbformat": 4,
 "nbformat_minor": 2
}
